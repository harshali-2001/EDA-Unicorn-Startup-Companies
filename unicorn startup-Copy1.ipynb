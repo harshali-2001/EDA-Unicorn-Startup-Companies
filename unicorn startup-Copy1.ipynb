{
 "cells": [
  {
   "cell_type": "markdown",
   "id": "bb2f788a",
   "metadata": {},
   "source": [
    "##  Data Exploration and Understanding 🕵🏻‍♀️"
   ]
  },
  {
   "cell_type": "code",
   "execution_count": 165,
   "id": "d0955318",
   "metadata": {},
   "outputs": [
    {
     "name": "stdout",
     "output_type": "stream",
     "text": [
      "Done!\n"
     ]
    }
   ],
   "source": [
    "import numpy as np\n",
    "import pandas as pd\n",
    "import seaborn as sns\n",
    "import matplotlib.pyplot as plt\n",
    "print(\"Done!\")"
   ]
  },
  {
   "cell_type": "code",
   "execution_count": 166,
   "id": "35d28043",
   "metadata": {},
   "outputs": [
    {
     "data": {
      "text/html": [
       "<div>\n",
       "<style scoped>\n",
       "    .dataframe tbody tr th:only-of-type {\n",
       "        vertical-align: middle;\n",
       "    }\n",
       "\n",
       "    .dataframe tbody tr th {\n",
       "        vertical-align: top;\n",
       "    }\n",
       "\n",
       "    .dataframe thead th {\n",
       "        text-align: right;\n",
       "    }\n",
       "</style>\n",
       "<table border=\"1\" class=\"dataframe\">\n",
       "  <thead>\n",
       "    <tr style=\"text-align: right;\">\n",
       "      <th></th>\n",
       "      <th>Unnamed: 0</th>\n",
       "      <th>Company</th>\n",
       "      <th>Valuation ($B)</th>\n",
       "      <th>Date Joined</th>\n",
       "      <th>Country</th>\n",
       "      <th>City</th>\n",
       "      <th>Industry</th>\n",
       "      <th>Select Investors</th>\n",
       "    </tr>\n",
       "  </thead>\n",
       "  <tbody>\n",
       "    <tr>\n",
       "      <th>0</th>\n",
       "      <td>0</td>\n",
       "      <td>ByteDance</td>\n",
       "      <td>$225</td>\n",
       "      <td>4/7/2017</td>\n",
       "      <td>China</td>\n",
       "      <td>Beijing</td>\n",
       "      <td>Media &amp; Entertainment</td>\n",
       "      <td>Sequoia Capital China, SIG Asia Investments, S...</td>\n",
       "    </tr>\n",
       "    <tr>\n",
       "      <th>1</th>\n",
       "      <td>1</td>\n",
       "      <td>SpaceX</td>\n",
       "      <td>$137</td>\n",
       "      <td>12/1/2012</td>\n",
       "      <td>United States</td>\n",
       "      <td>Hawthorne</td>\n",
       "      <td>Industrials</td>\n",
       "      <td>Founders Fund, Draper Fisher Jurvetson, Rothen...</td>\n",
       "    </tr>\n",
       "    <tr>\n",
       "      <th>2</th>\n",
       "      <td>2</td>\n",
       "      <td>SHEIN</td>\n",
       "      <td>$66</td>\n",
       "      <td>7/3/2018</td>\n",
       "      <td>China</td>\n",
       "      <td>Shenzhen</td>\n",
       "      <td>Consumer &amp; Retail</td>\n",
       "      <td>Tiger Global Management, Sequoia Capital China...</td>\n",
       "    </tr>\n",
       "    <tr>\n",
       "      <th>3</th>\n",
       "      <td>3</td>\n",
       "      <td>Stripe</td>\n",
       "      <td>$50</td>\n",
       "      <td>1/23/2014</td>\n",
       "      <td>United States</td>\n",
       "      <td>San Francisco</td>\n",
       "      <td>Financial Services</td>\n",
       "      <td>Khosla Ventures, LowercaseCapital, capitalG</td>\n",
       "    </tr>\n",
       "    <tr>\n",
       "      <th>4</th>\n",
       "      <td>4</td>\n",
       "      <td>Canva</td>\n",
       "      <td>$40</td>\n",
       "      <td>1/8/2018</td>\n",
       "      <td>Australia</td>\n",
       "      <td>Surry Hills</td>\n",
       "      <td>Enterprise Tech</td>\n",
       "      <td>Sequoia Capital China, Blackbird Ventures, Mat...</td>\n",
       "    </tr>\n",
       "  </tbody>\n",
       "</table>\n",
       "</div>"
      ],
      "text/plain": [
       "   Unnamed: 0    Company Valuation ($B) Date Joined        Country  \\\n",
       "0           0  ByteDance           $225    4/7/2017          China   \n",
       "1           1     SpaceX           $137   12/1/2012  United States   \n",
       "2           2      SHEIN            $66    7/3/2018          China   \n",
       "3           3     Stripe            $50   1/23/2014  United States   \n",
       "4           4      Canva            $40    1/8/2018      Australia   \n",
       "\n",
       "            City               Industry  \\\n",
       "0        Beijing  Media & Entertainment   \n",
       "1      Hawthorne            Industrials   \n",
       "2       Shenzhen      Consumer & Retail   \n",
       "3  San Francisco     Financial Services   \n",
       "4    Surry Hills        Enterprise Tech   \n",
       "\n",
       "                                    Select Investors  \n",
       "0  Sequoia Capital China, SIG Asia Investments, S...  \n",
       "1  Founders Fund, Draper Fisher Jurvetson, Rothen...  \n",
       "2  Tiger Global Management, Sequoia Capital China...  \n",
       "3        Khosla Ventures, LowercaseCapital, capitalG  \n",
       "4  Sequoia Capital China, Blackbird Ventures, Mat...  "
      ]
     },
     "execution_count": 166,
     "metadata": {},
     "output_type": "execute_result"
    }
   ],
   "source": [
    "data = pd.read_csv(\"unicorn_startup_companies.csv\" , index_col=False)\n",
    "data.head()"
   ]
  },
  {
   "cell_type": "code",
   "execution_count": 167,
   "id": "458f027b",
   "metadata": {},
   "outputs": [
    {
     "data": {
      "text/html": [
       "<div>\n",
       "<style scoped>\n",
       "    .dataframe tbody tr th:only-of-type {\n",
       "        vertical-align: middle;\n",
       "    }\n",
       "\n",
       "    .dataframe tbody tr th {\n",
       "        vertical-align: top;\n",
       "    }\n",
       "\n",
       "    .dataframe thead th {\n",
       "        text-align: right;\n",
       "    }\n",
       "</style>\n",
       "<table border=\"1\" class=\"dataframe\">\n",
       "  <thead>\n",
       "    <tr style=\"text-align: right;\">\n",
       "      <th></th>\n",
       "      <th>Unnamed: 0</th>\n",
       "      <th>Company</th>\n",
       "      <th>Valuation ($B)</th>\n",
       "      <th>Date Joined</th>\n",
       "      <th>Country</th>\n",
       "      <th>City</th>\n",
       "      <th>Industry</th>\n",
       "      <th>Select Investors</th>\n",
       "    </tr>\n",
       "  </thead>\n",
       "  <tbody>\n",
       "    <tr>\n",
       "      <th>1216</th>\n",
       "      <td>1216</td>\n",
       "      <td>LeadSquared</td>\n",
       "      <td>$1</td>\n",
       "      <td>6/21/2022</td>\n",
       "      <td>India</td>\n",
       "      <td>Bengaluru</td>\n",
       "      <td>Enterprise Tech</td>\n",
       "      <td>Gaja Capital Partners, Stakeboat Capital, West...</td>\n",
       "    </tr>\n",
       "    <tr>\n",
       "      <th>1217</th>\n",
       "      <td>1217</td>\n",
       "      <td>FourKites</td>\n",
       "      <td>$1</td>\n",
       "      <td>6/21/2022</td>\n",
       "      <td>United States</td>\n",
       "      <td>Chicago</td>\n",
       "      <td>Enterprise Tech</td>\n",
       "      <td>Hyde Park Venture Partners, Bain Capital Ventu...</td>\n",
       "    </tr>\n",
       "    <tr>\n",
       "      <th>1218</th>\n",
       "      <td>1218</td>\n",
       "      <td>VulcanForms</td>\n",
       "      <td>$1</td>\n",
       "      <td>7/5/2022</td>\n",
       "      <td>United States</td>\n",
       "      <td>Burlington</td>\n",
       "      <td>Industrials</td>\n",
       "      <td>Eclipse Ventures, D1 Capital Partners, Industr...</td>\n",
       "    </tr>\n",
       "    <tr>\n",
       "      <th>1219</th>\n",
       "      <td>1219</td>\n",
       "      <td>SingleStore</td>\n",
       "      <td>$1</td>\n",
       "      <td>7/12/2022</td>\n",
       "      <td>United States</td>\n",
       "      <td>San Francisco</td>\n",
       "      <td>Enterprise Tech</td>\n",
       "      <td>Google Ventures, Accel, Data Collective</td>\n",
       "    </tr>\n",
       "    <tr>\n",
       "      <th>1220</th>\n",
       "      <td>1220</td>\n",
       "      <td>Unstoppable Domains</td>\n",
       "      <td>$1</td>\n",
       "      <td>7/27/2022</td>\n",
       "      <td>United States</td>\n",
       "      <td>Las Vegas</td>\n",
       "      <td>Media &amp; Entertainment</td>\n",
       "      <td>Boost VC, Draper Associates, Gaingels</td>\n",
       "    </tr>\n",
       "  </tbody>\n",
       "</table>\n",
       "</div>"
      ],
      "text/plain": [
       "      Unnamed: 0              Company Valuation ($B) Date Joined  \\\n",
       "1216        1216          LeadSquared             $1   6/21/2022   \n",
       "1217        1217            FourKites             $1   6/21/2022   \n",
       "1218        1218          VulcanForms             $1    7/5/2022   \n",
       "1219        1219          SingleStore             $1   7/12/2022   \n",
       "1220        1220  Unstoppable Domains             $1   7/27/2022   \n",
       "\n",
       "            Country           City               Industry  \\\n",
       "1216          India      Bengaluru        Enterprise Tech   \n",
       "1217  United States        Chicago        Enterprise Tech   \n",
       "1218  United States     Burlington            Industrials   \n",
       "1219  United States  San Francisco        Enterprise Tech   \n",
       "1220  United States      Las Vegas  Media & Entertainment   \n",
       "\n",
       "                                       Select Investors  \n",
       "1216  Gaja Capital Partners, Stakeboat Capital, West...  \n",
       "1217  Hyde Park Venture Partners, Bain Capital Ventu...  \n",
       "1218  Eclipse Ventures, D1 Capital Partners, Industr...  \n",
       "1219            Google Ventures, Accel, Data Collective  \n",
       "1220              Boost VC, Draper Associates, Gaingels  "
      ]
     },
     "execution_count": 167,
     "metadata": {},
     "output_type": "execute_result"
    }
   ],
   "source": [
    "data.tail()"
   ]
  },
  {
   "cell_type": "code",
   "execution_count": 168,
   "id": "c8d73e3d",
   "metadata": {},
   "outputs": [
    {
     "name": "stdout",
     "output_type": "stream",
     "text": [
      "<class 'pandas.core.frame.DataFrame'>\n",
      "RangeIndex: 1221 entries, 0 to 1220\n",
      "Data columns (total 8 columns):\n",
      " #   Column            Non-Null Count  Dtype \n",
      "---  ------            --------------  ----- \n",
      " 0   Unnamed: 0        1221 non-null   int64 \n",
      " 1   Company           1221 non-null   object\n",
      " 2   Valuation ($B)    1221 non-null   object\n",
      " 3   Date Joined       1221 non-null   object\n",
      " 4   Country           1221 non-null   object\n",
      " 5   City              1203 non-null   object\n",
      " 6   Industry          1221 non-null   object\n",
      " 7   Select Investors  1219 non-null   object\n",
      "dtypes: int64(1), object(7)\n",
      "memory usage: 76.4+ KB\n"
     ]
    }
   ],
   "source": [
    "data.info()"
   ]
  },
  {
   "cell_type": "code",
   "execution_count": 169,
   "id": "87479b6a",
   "metadata": {},
   "outputs": [
    {
     "data": {
      "text/plain": [
       "Unnamed: 0           0\n",
       "Company              0\n",
       "Valuation ($B)       0\n",
       "Date Joined          0\n",
       "Country              0\n",
       "City                18\n",
       "Industry             0\n",
       "Select Investors     2\n",
       "dtype: int64"
      ]
     },
     "execution_count": 169,
     "metadata": {},
     "output_type": "execute_result"
    }
   ],
   "source": [
    "data.isnull().sum()"
   ]
  },
  {
   "cell_type": "code",
   "execution_count": 170,
   "id": "e14c2354",
   "metadata": {},
   "outputs": [
    {
     "name": "stdout",
     "output_type": "stream",
     "text": [
      "Unique Countries:\n",
      "['China' 'United States' 'Australia' 'United Kingdom' 'Indonesia'\n",
      " 'Germany' 'India' 'Hong Kong' 'Israel' 'Seychelles' 'Sweden' 'Turkey'\n",
      " 'Mexico' 'Estonia' 'Canada' 'South Korea' 'Netherlands' 'France'\n",
      " 'Finland' 'Colombia' 'Belgium' 'Brazil' 'Denmark' 'Switzerland'\n",
      " 'Lithuania' 'Austria' 'Ireland' 'Singapore' 'Vietnam'\n",
      " 'United Arab Emirates' 'Argentina' 'Spain' 'Greece' 'Japan' 'Luxembourg'\n",
      " 'Nigeria' 'Croatia' 'Senegal' 'Malaysia' 'Bermuda' 'Norway'\n",
      " 'South Africa' 'Ecuador' 'Chile' 'Thailand' 'Czech Republic' 'Egypt'\n",
      " 'Liechtenstein' 'Italy' 'Philippines' 'London']\n",
      "\n",
      "Unique Cities:\n",
      "['Beijing' 'Hawthorne' 'Shenzhen' 'San Francisco' 'Surry Hills' 'London'\n",
      " 'Cary' 'Jacksonville' 'Shanghai' 'Jakarta' 'Philadelphia' 'New York'\n",
      " 'Munich' 'Waltham' 'Roseville' 'Changsha' 'Bengaluru' 'Cheung Sha Wan'\n",
      " 'Tel Aviv' 'Walpole' 'Victoria' 'Glendale' 'Berlin' 'Boston' 'Palo Alto'\n",
      " 'Stockholm' 'Kirkland' 'Gurugram' 'Istanbul' 'Lerma de Villada'\n",
      " 'Mountain View' 'Fremont' 'Irvine' 'Tallinn' 'San Jose' 'San Mateo'\n",
      " 'Chicago' 'Mumbai' 'Irving' 'Vancouver' 'Santa Clara' 'Seoul' 'Hangzhou'\n",
      " 'Toronto' 'Changzhou' 'Amsterdam' 'Paris' 'Los Angeles' 'Hoboken'\n",
      " 'Brooklyn' 'Helsinki' 'Pflugerville' 'Oakland' 'Bogota' 'Brussels'\n",
      " 'Atlanta' 'Campinas' 'Sao Paulo' 'Melbourne' 'Gurgaon' 'Noida' 'Bellevue'\n",
      " 'Montreal' 'Copenhagen' 'Geneva' 'Burlingame' 'Vilnius' 'Faridabad'\n",
      " 'Seattle' 'Guangzhou' 'Denver' 'Eden Prairie' 'South San Francisco'\n",
      " 'Inglewood' 'Sunnyvale' 'Vienna' 'Santa Monica' 'Redwood City'\n",
      " 'El Segundo' 'Mississauga' 'Dublin' 'Columbus' 'Carlsbad' 'San Diego'\n",
      " 'Los Altos' 'San Carlos' 'Miami' 'Chengdu' 'Detroit' 'Bend' 'Culver City'\n",
      " 'Carson City' 'Suzhou' 'Marina del Rey' 'Duderstadt' nan 'San Ramon'\n",
      " 'Redmond' 'Schaffhausen' 'Louvain-la-Neuve' 'Englewood Cliffs' 'Alameda'\n",
      " 'Sacramento' 'Hayward' 'Houston' 'Peterborough' 'Kitchener' 'Jersey City'\n",
      " 'Cambridge' 'South Jordan' 'Ho Chi Minh City' 'Westerville' 'Lehi'\n",
      " 'Fort Lee' 'Austin' 'New Delhi' 'Zhuhai' 'Chatham' 'Bristol' 'Scottsdale'\n",
      " 'Dallas' 'Raleigh' 'Louisville' 'Oulu' 'Boulder' 'Dubai' 'Nanjing'\n",
      " 'Thane' 'Burlington' 'McLean' 'Sydney' 'Madison' \"Ra'anana\"\n",
      " 'Buenos Aires' 'Foster City' 'South Burlington' 'Madrid' 'Unterfoehring'\n",
      " 'Mexico City' 'Colchester' 'Maharashtra' 'Pune' 'Bethesda' 'Orlando'\n",
      " 'Athens' 'Roseland' 'Hong Kong' 'Kowloon' 'Brisbane' 'Tokyo' 'Somerville'\n",
      " \"Giv'atayim\" 'Leudelange' 'Goleta' 'Lagos' 'Pennsauken' 'Plantation'\n",
      " 'Portola Valley' 'Netanya' 'Croix' 'Aarhus' 'Sveta Nedelja' 'Bangalore'\n",
      " 'Boca Raton' 'Bruchsal' 'Jerusalem' 'Kindbody' 'Portland'\n",
      " 'Greenwood Village' 'Dakar' 'Hanover' 'Selangor' 'Chongqing' 'Hamilton'\n",
      " 'Burnaby' 'Lysaker' 'Bryanston' 'Hunan' 'Jiangsu' 'Northbrook' 'Quito'\n",
      " 'Santa Barbara' 'Santiago' 'Richmond' 'Draper' 'Cincinnati' 'Zephyr Cove'\n",
      " 'Altrincham' 'Bangkok' 'Nashville' 'Curitiba' 'Herzliya' 'DC'\n",
      " 'Santa Cruz' 'Hefei' 'Xuancheng' 'Solihull' 'Wenzhou' 'Ghent' 'Ambler'\n",
      " 'Pleasanton' 'La Plaine Saint-Denis' 'Central' 'Framingham'\n",
      " 'Salt Lake City' 'Bandung' 'Tirat Carmel' 'Encinitas' 'Barcelona'\n",
      " 'Long Beach' 'Berkeley' 'Chennai' 'Port Washington' 'Sherman Oaks'\n",
      " 'Boise' 'Brookline' 'Aberdeen' 'Tsuruoka' 'Novi' 'Washington' 'Prague'\n",
      " 'Princeton' 'Jaipur' 'Juarez' 'Gloucester' 'Washington DC' 'Tustin'\n",
      " 'Qingdao' 'Wuhan' 'Roubaix' 'Islandia' 'Prilly' 'Monterrey' 'Andheri'\n",
      " 'Waterloo' 'Chemnitz' 'Quincy' 'Uttar Pradesh' 'Banyeres de Mariola'\n",
      " 'Sarasota' 'Crewe' 'Pizhou' 'Cologne' 'Hamburg' 'Woburn' 'Charleston'\n",
      " 'Cairo' 'Menlo Park' 'Vaduz' 'Tel Aviv-Yafo' 'Milan' 'Scotts Valley'\n",
      " 'Kilkenny' 'Fort Mill' 'Lausanne' 'Midrand' 'Manila' 'Espoo' 'Wuxi'\n",
      " 'Charlotte' 'Evry' 'Guiyang' 'Leawood' 'Zurich' 'Dongguan' 'Vodnjan'\n",
      " 'Englewood' 'Colorado Springs' 'Parana' 'Wilmington' 'Ramat Gan'\n",
      " 'United Kingdom' 'Berkeley Heights' 'Lincoln' 'Oslo' 'Montpellier'\n",
      " 'Bellingham' 'Herndon' 'Tampa' 'Alexandria' 'Ottawa' 'Petah Tikva'\n",
      " 'Hyderabad' 'Milpitas' 'Venice' 'Torrance' 'Kista' 'Morrisville' 'Yehud'\n",
      " 'Las Vegas']\n"
     ]
    }
   ],
   "source": [
    "# total unique country and city in the database\n",
    "\n",
    "print(\"Unique Countries:\")\n",
    "print(data['Country'].unique())\n",
    "\n",
    "# Unique cities\n",
    "print(\"\\nUnique Cities:\")\n",
    "print(data['City'].unique())"
   ]
  },
  {
   "cell_type": "code",
   "execution_count": 171,
   "id": "aa5ac197",
   "metadata": {},
   "outputs": [
    {
     "name": "stdout",
     "output_type": "stream",
     "text": [
      "Unique Industry with their count\n",
      "Enterprise Tech               370\n",
      "Financial Services            216\n",
      "Consumer & Retail             215\n",
      "Industrials                   190\n",
      "Healthcare & Life Sciences    122\n",
      "Media & Entertainment          81\n",
      "Insurance                      27\n",
      "Name: Industry, dtype: int64\n"
     ]
    }
   ],
   "source": [
    "# total unique industry with count\n",
    "print(\"Unique Industry with their count\")\n",
    "print(data[\"Industry\"].value_counts())"
   ]
  },
  {
   "cell_type": "markdown",
   "id": "996f7d13",
   "metadata": {},
   "source": [
    "## Data Processing  "
   ]
  },
  {
   "cell_type": "markdown",
   "id": "a475f5ed",
   "metadata": {},
   "source": [
    "Finiding missing value and handling them"
   ]
  },
  {
   "cell_type": "code",
   "execution_count": 172,
   "id": "a21cf447",
   "metadata": {},
   "outputs": [
    {
     "name": "stdout",
     "output_type": "stream",
     "text": [
      " Null value present with respective to the columns\n",
      "Unnamed: 0           0\n",
      "Company              0\n",
      "Valuation ($B)       0\n",
      "Date Joined          0\n",
      "Country              0\n",
      "City                18\n",
      "Industry             0\n",
      "Select Investors     2\n",
      "dtype: int64\n",
      "\n",
      "\n",
      " After removing null values\n",
      "Unnamed: 0          0\n",
      "Company             0\n",
      "Valuation ($B)      0\n",
      "Date Joined         0\n",
      "Country             0\n",
      "City                0\n",
      "Industry            0\n",
      "Select Investors    0\n",
      "dtype: int64\n"
     ]
    }
   ],
   "source": [
    "# total null value present in the dataset\n",
    "print(\" Null value present with respective to the columns\")\n",
    "print(data.isnull().sum())\n",
    "\n",
    "# if null value present then remove that row\n",
    "print(\"\\n\\n After removing null values\")\n",
    "data= data.dropna()\n",
    "print(data.isnull().sum())"
   ]
  },
  {
   "cell_type": "markdown",
   "id": "d524b74a",
   "metadata": {},
   "source": [
    "change the column name of \"valuation ($B)\", \"Data Joined\" and \"Select Investors\""
   ]
  },
  {
   "cell_type": "code",
   "execution_count": 173,
   "id": "f077096a",
   "metadata": {},
   "outputs": [
    {
     "data": {
      "text/html": [
       "<div>\n",
       "<style scoped>\n",
       "    .dataframe tbody tr th:only-of-type {\n",
       "        vertical-align: middle;\n",
       "    }\n",
       "\n",
       "    .dataframe tbody tr th {\n",
       "        vertical-align: top;\n",
       "    }\n",
       "\n",
       "    .dataframe thead th {\n",
       "        text-align: right;\n",
       "    }\n",
       "</style>\n",
       "<table border=\"1\" class=\"dataframe\">\n",
       "  <thead>\n",
       "    <tr style=\"text-align: right;\">\n",
       "      <th></th>\n",
       "      <th>Unnamed: 0</th>\n",
       "      <th>Company</th>\n",
       "      <th>Valuation</th>\n",
       "      <th>DateJoined</th>\n",
       "      <th>Country</th>\n",
       "      <th>City</th>\n",
       "      <th>Industry</th>\n",
       "      <th>Select Investors</th>\n",
       "    </tr>\n",
       "  </thead>\n",
       "  <tbody>\n",
       "    <tr>\n",
       "      <th>0</th>\n",
       "      <td>0</td>\n",
       "      <td>ByteDance</td>\n",
       "      <td>$225</td>\n",
       "      <td>4/7/2017</td>\n",
       "      <td>China</td>\n",
       "      <td>Beijing</td>\n",
       "      <td>Media &amp; Entertainment</td>\n",
       "      <td>Sequoia Capital China, SIG Asia Investments, S...</td>\n",
       "    </tr>\n",
       "    <tr>\n",
       "      <th>1</th>\n",
       "      <td>1</td>\n",
       "      <td>SpaceX</td>\n",
       "      <td>$137</td>\n",
       "      <td>12/1/2012</td>\n",
       "      <td>United States</td>\n",
       "      <td>Hawthorne</td>\n",
       "      <td>Industrials</td>\n",
       "      <td>Founders Fund, Draper Fisher Jurvetson, Rothen...</td>\n",
       "    </tr>\n",
       "    <tr>\n",
       "      <th>2</th>\n",
       "      <td>2</td>\n",
       "      <td>SHEIN</td>\n",
       "      <td>$66</td>\n",
       "      <td>7/3/2018</td>\n",
       "      <td>China</td>\n",
       "      <td>Shenzhen</td>\n",
       "      <td>Consumer &amp; Retail</td>\n",
       "      <td>Tiger Global Management, Sequoia Capital China...</td>\n",
       "    </tr>\n",
       "    <tr>\n",
       "      <th>3</th>\n",
       "      <td>3</td>\n",
       "      <td>Stripe</td>\n",
       "      <td>$50</td>\n",
       "      <td>1/23/2014</td>\n",
       "      <td>United States</td>\n",
       "      <td>San Francisco</td>\n",
       "      <td>Financial Services</td>\n",
       "      <td>Khosla Ventures, LowercaseCapital, capitalG</td>\n",
       "    </tr>\n",
       "    <tr>\n",
       "      <th>4</th>\n",
       "      <td>4</td>\n",
       "      <td>Canva</td>\n",
       "      <td>$40</td>\n",
       "      <td>1/8/2018</td>\n",
       "      <td>Australia</td>\n",
       "      <td>Surry Hills</td>\n",
       "      <td>Enterprise Tech</td>\n",
       "      <td>Sequoia Capital China, Blackbird Ventures, Mat...</td>\n",
       "    </tr>\n",
       "  </tbody>\n",
       "</table>\n",
       "</div>"
      ],
      "text/plain": [
       "   Unnamed: 0    Company Valuation DateJoined        Country           City  \\\n",
       "0           0  ByteDance      $225   4/7/2017          China        Beijing   \n",
       "1           1     SpaceX      $137  12/1/2012  United States      Hawthorne   \n",
       "2           2      SHEIN       $66   7/3/2018          China       Shenzhen   \n",
       "3           3     Stripe       $50  1/23/2014  United States  San Francisco   \n",
       "4           4      Canva       $40   1/8/2018      Australia    Surry Hills   \n",
       "\n",
       "                Industry                                   Select Investors  \n",
       "0  Media & Entertainment  Sequoia Capital China, SIG Asia Investments, S...  \n",
       "1            Industrials  Founders Fund, Draper Fisher Jurvetson, Rothen...  \n",
       "2      Consumer & Retail  Tiger Global Management, Sequoia Capital China...  \n",
       "3     Financial Services        Khosla Ventures, LowercaseCapital, capitalG  \n",
       "4        Enterprise Tech  Sequoia Capital China, Blackbird Ventures, Mat...  "
      ]
     },
     "execution_count": 173,
     "metadata": {},
     "output_type": "execute_result"
    }
   ],
   "source": [
    "# after remane in columns name\n",
    "data.rename(columns={'Valuation ($B)' : 'Valuation' , 'Date Joined' : 'DateJoined'},inplace=True)\n",
    "data.head()"
   ]
  },
  {
   "cell_type": "markdown",
   "id": "6e5053d2",
   "metadata": {},
   "source": [
    "Remove the $ sign from the valuation column and convert to float"
   ]
  },
  {
   "cell_type": "code",
   "execution_count": 174,
   "id": "5b68e290",
   "metadata": {},
   "outputs": [
    {
     "name": "stderr",
     "output_type": "stream",
     "text": [
      "C:\\Users\\dell\\AppData\\Local\\Temp\\ipykernel_6868\\2713547432.py:2: FutureWarning:\n",
      "\n",
      "The default value of regex will change from True to False in a future version. In addition, single character regular expressions will *not* be treated as literal strings when regex=True.\n",
      "\n"
     ]
    },
    {
     "data": {
      "text/html": [
       "<div>\n",
       "<style scoped>\n",
       "    .dataframe tbody tr th:only-of-type {\n",
       "        vertical-align: middle;\n",
       "    }\n",
       "\n",
       "    .dataframe tbody tr th {\n",
       "        vertical-align: top;\n",
       "    }\n",
       "\n",
       "    .dataframe thead th {\n",
       "        text-align: right;\n",
       "    }\n",
       "</style>\n",
       "<table border=\"1\" class=\"dataframe\">\n",
       "  <thead>\n",
       "    <tr style=\"text-align: right;\">\n",
       "      <th></th>\n",
       "      <th>Unnamed: 0</th>\n",
       "      <th>Company</th>\n",
       "      <th>Valuation</th>\n",
       "      <th>DateJoined</th>\n",
       "      <th>Country</th>\n",
       "      <th>City</th>\n",
       "      <th>Industry</th>\n",
       "      <th>Select Investors</th>\n",
       "    </tr>\n",
       "  </thead>\n",
       "  <tbody>\n",
       "    <tr>\n",
       "      <th>1216</th>\n",
       "      <td>1216</td>\n",
       "      <td>LeadSquared</td>\n",
       "      <td>1.0</td>\n",
       "      <td>6/21/2022</td>\n",
       "      <td>India</td>\n",
       "      <td>Bengaluru</td>\n",
       "      <td>Enterprise Tech</td>\n",
       "      <td>Gaja Capital Partners, Stakeboat Capital, West...</td>\n",
       "    </tr>\n",
       "    <tr>\n",
       "      <th>1217</th>\n",
       "      <td>1217</td>\n",
       "      <td>FourKites</td>\n",
       "      <td>1.0</td>\n",
       "      <td>6/21/2022</td>\n",
       "      <td>United States</td>\n",
       "      <td>Chicago</td>\n",
       "      <td>Enterprise Tech</td>\n",
       "      <td>Hyde Park Venture Partners, Bain Capital Ventu...</td>\n",
       "    </tr>\n",
       "    <tr>\n",
       "      <th>1218</th>\n",
       "      <td>1218</td>\n",
       "      <td>VulcanForms</td>\n",
       "      <td>1.0</td>\n",
       "      <td>7/5/2022</td>\n",
       "      <td>United States</td>\n",
       "      <td>Burlington</td>\n",
       "      <td>Industrials</td>\n",
       "      <td>Eclipse Ventures, D1 Capital Partners, Industr...</td>\n",
       "    </tr>\n",
       "    <tr>\n",
       "      <th>1219</th>\n",
       "      <td>1219</td>\n",
       "      <td>SingleStore</td>\n",
       "      <td>1.0</td>\n",
       "      <td>7/12/2022</td>\n",
       "      <td>United States</td>\n",
       "      <td>San Francisco</td>\n",
       "      <td>Enterprise Tech</td>\n",
       "      <td>Google Ventures, Accel, Data Collective</td>\n",
       "    </tr>\n",
       "    <tr>\n",
       "      <th>1220</th>\n",
       "      <td>1220</td>\n",
       "      <td>Unstoppable Domains</td>\n",
       "      <td>1.0</td>\n",
       "      <td>7/27/2022</td>\n",
       "      <td>United States</td>\n",
       "      <td>Las Vegas</td>\n",
       "      <td>Media &amp; Entertainment</td>\n",
       "      <td>Boost VC, Draper Associates, Gaingels</td>\n",
       "    </tr>\n",
       "  </tbody>\n",
       "</table>\n",
       "</div>"
      ],
      "text/plain": [
       "      Unnamed: 0              Company  Valuation DateJoined        Country  \\\n",
       "1216        1216          LeadSquared        1.0  6/21/2022          India   \n",
       "1217        1217            FourKites        1.0  6/21/2022  United States   \n",
       "1218        1218          VulcanForms        1.0   7/5/2022  United States   \n",
       "1219        1219          SingleStore        1.0  7/12/2022  United States   \n",
       "1220        1220  Unstoppable Domains        1.0  7/27/2022  United States   \n",
       "\n",
       "               City               Industry  \\\n",
       "1216      Bengaluru        Enterprise Tech   \n",
       "1217        Chicago        Enterprise Tech   \n",
       "1218     Burlington            Industrials   \n",
       "1219  San Francisco        Enterprise Tech   \n",
       "1220      Las Vegas  Media & Entertainment   \n",
       "\n",
       "                                       Select Investors  \n",
       "1216  Gaja Capital Partners, Stakeboat Capital, West...  \n",
       "1217  Hyde Park Venture Partners, Bain Capital Ventu...  \n",
       "1218  Eclipse Ventures, D1 Capital Partners, Industr...  \n",
       "1219            Google Ventures, Accel, Data Collective  \n",
       "1220              Boost VC, Draper Associates, Gaingels  "
      ]
     },
     "execution_count": 174,
     "metadata": {},
     "output_type": "execute_result"
    }
   ],
   "source": [
    "# Remove the dollar sign and convert the 'Valuation' column to a float\n",
    "data['Valuation'] = data['Valuation'].str.replace('$', '').astype(float)\n",
    "data.tail()"
   ]
  },
  {
   "cell_type": "markdown",
   "id": "c5a004d2",
   "metadata": {},
   "source": [
    "## Feature Engineering"
   ]
  },
  {
   "cell_type": "markdown",
   "id": "194a0b05",
   "metadata": {},
   "source": [
    "Calculate the average valuation of unicorns per country and city"
   ]
  },
  {
   "cell_type": "code",
   "execution_count": 175,
   "id": "9d0a0ea1",
   "metadata": {},
   "outputs": [
    {
     "name": "stdout",
     "output_type": "stream",
     "text": [
      "                 Country  Average_valuation_Per_Country\n",
      "38            Seychelles                      10.000000\n",
      "1              Australia                       6.925000\n",
      "15               Estonia                       4.950000\n",
      "45                Turkey                       4.516667\n",
      "8                  China                       4.108547\n",
      "20             Hong Kong                       3.837500\n",
      "2                Austria                       3.805000\n",
      "22             Indonesia                       3.803750\n",
      "47        United Kingdom                       3.628269\n",
      "3                Belgium                       3.360000\n",
      "12               Denmark                       3.350000\n",
      "42                Sweden                       3.231429\n",
      "33           Netherlands                       3.208571\n",
      "48         United States                       3.131771\n",
      "16               Finland                       3.115000\n",
      "28             Lithuania                       3.065000\n",
      "21                 India                       2.767857\n",
      "49               Vietnam                       2.635000\n",
      "18               Germany                       2.632667\n",
      "6                 Canada                       2.487143\n",
      "9               Colombia                       2.466667\n",
      "0              Argentina                       2.450000\n",
      "5                 Brazil                       2.442500\n",
      "17                France                       2.382000\n",
      "32                Mexico                       2.337500\n",
      "40           South Korea                       2.324286\n",
      "24                Israel                       2.267500\n",
      "43           Switzerland                       2.050000\n",
      "30            Luxembourg                       2.000000\n",
      "34               Nigeria                       2.000000\n",
      "37               Senegal                       1.700000\n",
      "31              Malaysia                       1.700000\n",
      "46  United Arab Emirates                       1.683333\n",
      "23               Ireland                       1.675000\n",
      "19                Greece                       1.660000\n",
      "4                Bermuda                       1.600000\n",
      "10               Croatia                       1.500000\n",
      "13               Ecuador                       1.500000\n",
      "41                 Spain                       1.430000\n",
      "26                 Japan                       1.402857\n",
      "39          South Africa                       1.295000\n",
      "7                  Chile                       1.250000\n",
      "11        Czech Republic                       1.200000\n",
      "44              Thailand                       1.166667\n",
      "35                Norway                       1.125000\n",
      "36           Philippines                       1.000000\n",
      "29                London                       1.000000\n",
      "14                 Egypt                       1.000000\n",
      "27         Liechtenstein                       1.000000\n",
      "25                 Italy                       1.000000\n"
     ]
    }
   ],
   "source": [
    "\n",
    "# Aggregate data by country\n",
    "country_aggregation = data.groupby('Country').agg(Average_valuation_Per_Country = ('Valuation' , 'mean')).reset_index()\n",
    "print(country_aggregation.sort_values(by=['Average_valuation_Per_Country'], ascending=False))"
   ]
  },
  {
   "cell_type": "code",
   "execution_count": 176,
   "id": "fd54c05a",
   "metadata": {},
   "outputs": [
    {
     "name": "stdout",
     "output_type": "stream",
     "text": [
      "           Country              City  Average_Valuation_Per_City\n",
      "0        Argentina      Buenos Aires                       2.450\n",
      "1        Australia        Alexandria                       1.000\n",
      "2        Australia          Brisbane                       2.000\n",
      "3        Australia         Melbourne                       3.400\n",
      "4        Australia          Richmond                       1.500\n",
      "..             ...               ...                         ...\n",
      "287  United States       Westerville                       3.000\n",
      "288  United States        Wilmington                       1.000\n",
      "289  United States            Woburn                       1.000\n",
      "290  United States       Zephyr Cove                       1.500\n",
      "291        Vietnam  Ho Chi Minh City                       2.635\n",
      "\n",
      "[292 rows x 3 columns]\n"
     ]
    }
   ],
   "source": [
    "# Aggregate data by city\n",
    "city_aggregation = data.groupby(['Country', 'City']).agg(\n",
    "    Average_Valuation_Per_City=('Valuation', 'mean')\n",
    ").reset_index()\n",
    "\n",
    "print(city_aggregation)"
   ]
  },
  {
   "cell_type": "code",
   "execution_count": 177,
   "id": "c28d3f84",
   "metadata": {},
   "outputs": [
    {
     "name": "stdout",
     "output_type": "stream",
     "text": [
      "                     Industry  Average_Valuation_Per_industry\n",
      "0           Consumer & Retail                             211\n",
      "1             Enterprise Tech                             369\n",
      "2          Financial Services                             207\n",
      "3  Healthcare & Life Sciences                             122\n",
      "4                 Industrials                             186\n",
      "5                   Insurance                              26\n",
      "6       Media & Entertainment                              80\n"
     ]
    }
   ],
   "source": [
    "# aggregates data by indutry\n",
    "industry_aggregation = data.groupby(['Industry']).agg(\n",
    "    Average_Valuation_Per_industry=('Valuation', 'count')\n",
    ").reset_index()\n",
    "\n",
    "print(industry_aggregation)"
   ]
  },
  {
   "cell_type": "markdown",
   "id": "7aa1008e",
   "metadata": {},
   "source": [
    "extract year from the date and create new column for the same"
   ]
  },
  {
   "cell_type": "code",
   "execution_count": 178,
   "id": "0d5f333c",
   "metadata": {
    "scrolled": true
   },
   "outputs": [
    {
     "name": "stdout",
     "output_type": "stream",
     "text": [
      "0       2017\n",
      "1       2012\n",
      "2       2018\n",
      "3       2014\n",
      "4       2018\n",
      "        ... \n",
      "1216    2022\n",
      "1217    2022\n",
      "1218    2022\n",
      "1219    2022\n",
      "1220    2022\n",
      "Name: Year, Length: 1201, dtype: int64\n",
      "2021    504\n",
      "2022    259\n",
      "2020    103\n",
      "2019     96\n",
      "2018     95\n",
      "2017     41\n",
      "2015     32\n",
      "2023     30\n",
      "2016     20\n",
      "2014     12\n",
      "2012      4\n",
      "2013      3\n",
      "2011      1\n",
      "2007      1\n",
      "Name: Year, dtype: int64\n"
     ]
    }
   ],
   "source": [
    "# separate year from the data set\n",
    "data['DateJoined'] = pd.to_datetime(data['DateJoined'], format='%m/%d/%Y')\n",
    "data['Year'] = data['DateJoined'].dt.year\n",
    "print(data['Year'])\n",
    "\n",
    "#  unique years with value count\n",
    "print(data['Year'].value_counts())"
   ]
  },
  {
   "cell_type": "code",
   "execution_count": 179,
   "id": "10a3e1bd",
   "metadata": {},
   "outputs": [
    {
     "name": "stdout",
     "output_type": "stream",
     "text": [
      "    Year                    Industry  Industry_per_year\n",
      "0   2007           Consumer & Retail                  1\n",
      "1   2011          Financial Services                  1\n",
      "2   2012           Consumer & Retail                  2\n",
      "3   2012          Financial Services                  1\n",
      "4   2012                 Industrials                  1\n",
      "..   ...                         ...                ...\n",
      "68  2023             Enterprise Tech                 11\n",
      "69  2023          Financial Services                  3\n",
      "70  2023  Healthcare & Life Sciences                  3\n",
      "71  2023                 Industrials                  8\n",
      "72  2023       Media & Entertainment                  3\n",
      "\n",
      "[73 rows x 3 columns]\n"
     ]
    }
   ],
   "source": [
    "year_aggregation = data.groupby(['Year' , 'Industry']).agg(Industry_per_year=('Industry', 'count')).reset_index()\n",
    "print(year_aggregation)"
   ]
  },
  {
   "cell_type": "code",
   "execution_count": null,
   "id": "c0678266",
   "metadata": {},
   "outputs": [],
   "source": []
  },
  {
   "cell_type": "markdown",
   "id": "7816b6be",
   "metadata": {},
   "source": [
    "## Data Analysis   📊"
   ]
  },
  {
   "cell_type": "markdown",
   "id": "ddf7ce06",
   "metadata": {},
   "source": [
    "Visualize the number of unicorns by country using a heatmap or choropleth map"
   ]
  },
  {
   "cell_type": "code",
   "execution_count": 180,
   "id": "5a7f47ad",
   "metadata": {},
   "outputs": [],
   "source": [
    "# import plotly.express as px\n",
    "\n",
    "# # Aggregate data by country for the number of unicorns\n",
    "# country_counts = data['Country'].value_counts().reset_index()\n",
    "# country_counts.columns = ['Country', 'Number_of_Unicorns']\n",
    "\n",
    "# # Plot\n",
    "# fig = px.choropleth(country_counts, \n",
    "#                     locations=\"Country\", \n",
    "#                     locationmode='country names',\n",
    "#                     color=\"Number_of_Unicorns\",\n",
    "#                     hover_name=\"Country\",\n",
    "#                     color_continuous_scale=px.colors.sequential.Plasma,\n",
    "#                     title=\"Number of Unicorns by Country\")\n",
    "# fig.show()"
   ]
  },
  {
   "cell_type": "code",
   "execution_count": 181,
   "id": "e7710ddb",
   "metadata": {},
   "outputs": [
    {
     "data": {
      "image/png": "[encoded data removed]",
      "text/plain": [
       "<Figure size 864x576 with 1 Axes>"
      ]
     },
     "metadata": {
      "needs_background": "light"
     },
     "output_type": "display_data"
    }
   ],
   "source": [
    "# Aggregate data by city for the number of unicorns\n",
    "city_counts = data['City'].value_counts().head(10).reset_index()\n",
    "city_counts.columns = ['City', 'Number_of_Unicorns']\n",
    "\n",
    "# Plot\n",
    "plt.figure(figsize=(12, 8))\n",
    "sns.barplot(x='Number_of_Unicorns', y='City', data=city_counts, palette='viridis')\n",
    "plt.title('Top 10 Cities by Number of Unicorns')\n",
    "plt.xlabel('Number of Unicorns')\n",
    "plt.ylabel('City')\n",
    "plt.show()"
   ]
  },
  {
   "cell_type": "code",
   "execution_count": 182,
   "id": "551da373",
   "metadata": {},
   "outputs": [
    {
     "data": {
      "image/png": "[encoded data removed]",
      "text/plain": [
       "<Figure size 864x576 with 1 Axes>"
      ]
     },
     "metadata": {
      "needs_background": "light"
     },
     "output_type": "display_data"
    }
   ],
   "source": [
    "# Aggregate data by city for the number of unicorns\n",
    "country_counts = data['Country'].value_counts().head(10).reset_index()\n",
    "country_counts.columns = ['Country', 'Number_of_Unicorns']\n",
    "\n",
    "# Plot\n",
    "plt.figure(figsize=(12, 8))\n",
    "sns.barplot(x='Number_of_Unicorns', y='Country', data=country_counts, palette='viridis')\n",
    "plt.title('Top 10 Country by Number of Unicorns')\n",
    "plt.xlabel('Number of Unicorns')\n",
    "plt.ylabel('Country')\n",
    "plt.show()"
   ]
  },
  {
   "cell_type": "code",
   "execution_count": 183,
   "id": "e077528a",
   "metadata": {},
   "outputs": [
    {
     "name": "stdout",
     "output_type": "stream",
     "text": [
      "    Year  Number_of_Unicorns\n",
      "0   2021                 504\n",
      "1   2022                 259\n",
      "2   2020                 103\n",
      "3   2019                  96\n",
      "4   2018                  95\n",
      "5   2017                  41\n",
      "6   2015                  32\n",
      "7   2023                  30\n",
      "8   2016                  20\n",
      "9   2014                  12\n",
      "10  2012                   4\n",
      "11  2013                   3\n",
      "12  2011                   1\n",
      "13  2007                   1\n"
     ]
    },
    {
     "data": {
      "image/png": "[encoded data removed]",
      "text/plain": [
       "<Figure size 864x576 with 1 Axes>"
      ]
     },
     "metadata": {
      "needs_background": "light"
     },
     "output_type": "display_data"
    }
   ],
   "source": [
    "# Aggregate data by city for the number of unicorns\n",
    "year_counts = data['Year'].value_counts().reset_index()\n",
    "year_counts.columns = ['Year', 'Number_of_Unicorns']\n",
    "\n",
    "print(year_counts)\n",
    "\n",
    "# Plot\n",
    "plt.figure(figsize=(12, 8))\n",
    "sns.lineplot(data=year_counts, x=\"Year\", y=\"Number_of_Unicorns\" )\n",
    "plt.title('Unicorns over years')\n",
    "plt.xlabel('Year')\n",
    "plt.ylabel('Number of Unicorns')\n",
    "plt.show()"
   ]
  },
  {
   "cell_type": "code",
   "execution_count": 184,
   "id": "b8065137",
   "metadata": {},
   "outputs": [
    {
     "name": "stdout",
     "output_type": "stream",
     "text": [
      "                     Industry  Number_of_Unicorns\n",
      "0             Enterprise Tech                 369\n",
      "1           Consumer & Retail                 211\n",
      "2          Financial Services                 207\n",
      "3                 Industrials                 186\n",
      "4  Healthcare & Life Sciences                 122\n",
      "5       Media & Entertainment                  80\n",
      "6                   Insurance                  26\n"
     ]
    },
    {
     "data": {
      "image/png": "[encoded data removed]",
      "text/plain": [
       "<Figure size 1008x648 with 1 Axes>"
      ]
     },
     "metadata": {
      "needs_background": "light"
     },
     "output_type": "display_data"
    }
   ],
   "source": [
    "# industry_counts = data.groupby(['Industry']).agg(\n",
    "#     total_Valuation_Per_industry=('Valuation', 'count')\n",
    "# ).reset_index()\n",
    "\n",
    "industry_counts = data['Industry'].value_counts().reset_index()\n",
    "industry_counts.columns = ['Industry', 'Number_of_Unicorns']\n",
    "print(industry_counts)\n",
    "\n",
    "plt.figure(figsize=(14,9))\n",
    "sns.barplot(data=industry_counts , y= \"Number_of_Unicorns\" , x=\"Industry\" , palette='viridis')\n",
    "plt.title('Industry Vs Number of Unicorns')\n",
    "plt.xlabel('Industry')\n",
    "plt.ylabel('Number of Unicorns')\n",
    "plt.show()"
   ]
  },
  {
   "cell_type": "code",
   "execution_count": 185,
   "id": "c06e9dbc",
   "metadata": {},
   "outputs": [
    {
     "name": "stdout",
     "output_type": "stream",
     "text": [
      "                     Industry  Aggregate_Valuation_Per_industry\n",
      "0           Consumer & Retail                          2.960900\n",
      "1             Enterprise Tech                          2.818455\n",
      "2          Financial Services                          3.342512\n",
      "3  Healthcare & Life Sciences                          2.306066\n",
      "4                 Industrials                          3.246505\n",
      "5                   Insurance                          2.166538\n",
      "6       Media & Entertainment                          6.212625\n"
     ]
    },
    {
     "data": {
      "image/png": "[encoded data removed]",
      "text/plain": [
       "<Figure size 1008x648 with 1 Axes>"
      ]
     },
     "metadata": {
      "needs_background": "light"
     },
     "output_type": "display_data"
    }
   ],
   "source": [
    "Aggregate_industry_counts = data.groupby(['Industry']).agg(\n",
    "    Aggregate_Valuation_Per_industry=('Valuation', 'mean')\n",
    ").reset_index()\n",
    "\n",
    "print(Aggregate_industry_counts)\n",
    "plt.figure(figsize=(14,9))\n",
    "sns.barplot(data=Aggregate_industry_counts , y= \"Aggregate_Valuation_Per_industry\" , x=\"Industry\" , palette='viridis')\n",
    "plt.title('Industry Vs Average valuations of unicorsn')\n",
    "plt.xlabel('Industry')\n",
    "plt.ylabel('Average Valuation')\n",
    "plt.show()"
   ]
  },
  {
   "cell_type": "code",
   "execution_count": 186,
   "id": "4c43a452",
   "metadata": {},
   "outputs": [
    {
     "name": "stdout",
     "output_type": "stream",
     "text": [
      "                      Industry  Year  Counts\n",
      "0            Consumer & Retail  2018      21\n",
      "1            Consumer & Retail  2019      19\n",
      "2            Consumer & Retail  2020      21\n",
      "3            Consumer & Retail  2021      69\n",
      "4            Consumer & Retail  2022      33\n",
      "5              Enterprise Tech  2018      28\n",
      "6              Enterprise Tech  2019      23\n",
      "7              Enterprise Tech  2020      32\n",
      "8              Enterprise Tech  2021     167\n",
      "9              Enterprise Tech  2022      91\n",
      "10          Financial Services  2018      10\n",
      "11          Financial Services  2019      15\n",
      "12          Financial Services  2020      13\n",
      "13          Financial Services  2021     110\n",
      "14          Financial Services  2022      46\n",
      "15  Healthcare & Life Sciences  2018       7\n",
      "16  Healthcare & Life Sciences  2019       6\n",
      "17  Healthcare & Life Sciences  2020      16\n",
      "18  Healthcare & Life Sciences  2021      55\n",
      "19  Healthcare & Life Sciences  2022      27\n",
      "20                 Industrials  2018      24\n",
      "21                 Industrials  2019      24\n",
      "22                 Industrials  2020      13\n",
      "23                 Industrials  2021      62\n",
      "24                 Industrials  2022      40\n",
      "25                   Insurance  2018       1\n",
      "26                   Insurance  2019       3\n",
      "27                   Insurance  2020       2\n",
      "28                   Insurance  2021      14\n",
      "29                   Insurance  2022       5\n",
      "30       Media & Entertainment  2018       4\n",
      "31       Media & Entertainment  2019       6\n",
      "32       Media & Entertainment  2020       6\n",
      "33       Media & Entertainment  2021      27\n",
      "34       Media & Entertainment  2022      17\n"
     ]
    },
    {
     "data": {
      "image/png": "[encoded data removed]",
      "text/plain": [
       "<Figure size 864x576 with 1 Axes>"
      ]
     },
     "metadata": {
      "needs_background": "light"
     },
     "output_type": "display_data"
    }
   ],
   "source": [
    "\n",
    "# Create a DataFrame\n",
    "df = pd.DataFrame(data)\n",
    "\n",
    "# Filter data for the years 2018 to 2022\n",
    "filtered_df = df[df['Year'].between(2018, 2022)]\n",
    "\n",
    "# Group data by Industry and Year, and calculate counts\n",
    "grouped_df = filtered_df.groupby(['Industry', 'Year']).size().reset_index(name='Counts')\n",
    "print(grouped_df)\n",
    "\n",
    "# Create a Seaborn plot\n",
    "plt.figure(figsize=(12, 8))\n",
    "sns.barplot(x='Year', y='Counts', hue='Industry', data=grouped_df ,palette='viridis')\n",
    "plt.title('Industry Counts (2018-2022)')\n",
    "plt.xlabel('Year')\n",
    "plt.ylabel('Counts')\n",
    "plt.legend(title='Industry')\n",
    "plt.show()\n",
    "# In this example, replace the data dictionary with your actual data. The code creates a bar plot using Seaborn, where the x-axis represents the years, the y-axis represents the counts of valuations, and each industry is represented by a different color. You can adjust the figure size, title, labels, and other plot s"
   ]
  },
  {
   "cell_type": "markdown",
   "id": "81a67f00",
   "metadata": {},
   "source": [
    "Indian Market Senario"
   ]
  },
  {
   "cell_type": "code",
   "execution_count": 198,
   "id": "c693d3dc",
   "metadata": {},
   "outputs": [
    {
     "name": "stdout",
     "output_type": "stream",
     "text": [
      "        City            Industry  Year  Counts\n",
      "0    Andheri   Consumer & Retail  2022       1\n",
      "1  Bangalore  Financial Services  2021       1\n",
      "2  Bengaluru   Consumer & Retail  2017       1\n",
      "3  Bengaluru   Consumer & Retail  2018       2\n",
      "4  Bengaluru   Consumer & Retail  2020       1\n"
     ]
    },
    {
     "name": "stderr",
     "output_type": "stream",
     "text": [
      "No artists with labels found to put in legend.  Note that artists whose label start with an underscore are ignored when legend() is called with no argument.\n"
     ]
    },
    {
     "data": {
      "image/png": "[encoded data removed]",
      "text/plain": [
       "<Figure size 864x576 with 1 Axes>"
      ]
     },
     "metadata": {
      "needs_background": "light"
     },
     "output_type": "display_data"
    }
   ],
   "source": [
    "\n",
    "# Create a DataFrame\n",
    "df = pd.DataFrame(data)\n",
    "\n",
    "# Filter data for the years 2018 to 2022\n",
    "filtered_df = df[df['Country']==\"India\"]\n",
    "\n",
    "# Group data by Industry and Year, and calculate counts\n",
    "grouped_df = filtered_df.groupby(['City', 'Industry', 'Year']).size().reset_index(name='Counts')\n",
    "print(grouped_df.head())\n",
    "\n",
    "# Create a Seaborn plot\n",
    "plt.figure(figsize=(12, 8))\n",
    "sns.barplot(y='City', x='Counts', data=grouped_df ,palette='viridis')\n",
    "plt.title('India City unicorns counts')\n",
    "plt.xlabel('Year')\n",
    "plt.ylabel('Counts')\n",
    "plt.show()\n"
   ]
  },
  {
   "cell_type": "code",
   "execution_count": 212,
   "id": "1bf3ac0e",
   "metadata": {},
   "outputs": [
    {
     "name": "stdout",
     "output_type": "stream",
     "text": [
      "Bengaluru    19\n",
      "Mumbai        8\n",
      "Gurgaon       5\n",
      "Pune          5\n",
      "Gurugram      4\n",
      "Name: City, dtype: int64\n"
     ]
    },
    {
     "data": {
      "text/plain": [
       "<Figure size 864x576 with 0 Axes>"
      ]
     },
     "metadata": {},
     "output_type": "display_data"
    }
   ],
   "source": [
    "plt.figure(figsize=(12, 8))\n",
    "city_hue = grouped_df['City'].value_counts().head(5)\n",
    "print(city_hue)"
   ]
  }
 ],
 "metadata": {
  "kernelspec": {
   "display_name": "Python 3 (ipykernel)",
   "language": "python",
   "name": "python3"
  },
  "language_info": {
   "codemirror_mode": {
    "name": "ipython",
    "version": 3
   },
   "file_extension": ".py",
   "mimetype": "text/x-python",
   "name": "python",
   "nbconvert_exporter": "python",
   "pygments_lexer": "ipython3",
   "version": "3.9.12"
  }
 },
 "nbformat": 4,
 "nbformat_minor": 5
}
